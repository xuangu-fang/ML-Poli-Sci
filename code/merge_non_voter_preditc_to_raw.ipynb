{
 "cells": [
  {
   "cell_type": "markdown",
   "metadata": {},
   "source": [
    "## workflow:\n",
    "\n",
    "1. we import the results on individual-level prediction-of-non-voter from the csv file: \n",
    "- regular: '''result/One-model-universal-predict-add-year-state/_threshold_10_0.2_threshold_20_0.3_threshold_30_0.4_threshold_40_0.5/1948/all/regular/prediction.csv'''\n",
    "- TCA: '''result/One-model-universal-predict-add-year-state/_threshold_10_0.2_threshold_20_0.3_threshold_30_0.4_threshold_40_0.5/1948/all/TCA/prediction.csv'''\n",
    "\n",
    "We extract three columns: 'VCF0006a'(Unique Respondent Number), 'prediction' , 'prediction_label' from the prediction data.\n",
    " \n",
    "\n",
    "2. we import the raw data from the csv file: '''data/cumulative_2022_v3_9_domain.csv'''\n",
    "\n",
    "3. Using the column 'VCF0006a'(Unique Respondent Number) as the key, we merge the 'prediction' , 'prediction_label' two columns to the raw data.\n",
    "\n",
    "4. We save the merged data to a new csv file: '''data/merge_non_voter_preditc_to_raw_regular.csv''' and '''data/merge_non_voter_preditc_to_raw_TCA.csv'''\n",
    "\n",
    "\n",
    "\n"
   ]
  },
  {
   "cell_type": "code",
   "execution_count": 7,
   "metadata": {},
   "outputs": [
    {
     "name": "stdout",
     "output_type": "stream",
     "text": [
      "Merge completed successfully!\n",
      "Regular merged shape: (71741, 122)\n",
      "TCA merged shape: (71741, 122)\n"
     ]
    }
   ],
   "source": [
    "import pandas as pd\n",
    "\n",
    "# 1. Import the prediction data (regular and TCA)\n",
    "regular_pred_path = '../result/One-model-universal-predict-add-year-state/_threshold_10_0.2_threshold_20_0.3_threshold_30_0.4_threshold_40_0.5/1948/all/regular/prediction.csv'\n",
    "tca_pred_path = '../result/One-model-universal-predict-add-year-state/_threshold_10_0.2_threshold_20_0.3_threshold_30_0.4_threshold_40_0.5/1948/all/TCA/prediction.csv'\n",
    "\n",
    "# Load prediction data and extract required columns\n",
    "regular_pred = pd.read_csv(regular_pred_path)\n",
    "tca_pred = pd.read_csv(tca_pred_path)\n",
    "\n",
    "# Extract only the columns we need\n",
    "regular_pred = regular_pred[['VCF0006a', 'prediction', 'prediction_label']]\n",
    "tca_pred = tca_pred[['VCF0006a', 'prediction', 'prediction_label']]\n",
    "\n",
    "# 2. Import the raw data\n",
    "raw_data_path = '../data/cumulative_2022_v3_9_domain.csv'\n",
    "raw_data = pd.read_csv(raw_data_path)\n",
    "\n",
    "# 3. Merge the prediction data with the raw data\n",
    "# For regular predictions\n",
    "merged_regular = pd.merge(\n",
    "    raw_data, \n",
    "    regular_pred, \n",
    "    on='VCF0006a', \n",
    "    how='left',\n",
    "    suffixes=('', '_regular')\n",
    ")\n",
    "\n",
    "# For TCA predictions\n",
    "merged_tca = pd.merge(\n",
    "    raw_data, \n",
    "    tca_pred, \n",
    "    on='VCF0006a', \n",
    "    how='left',\n",
    "    suffixes=('', '_tca')\n",
    ")\n",
    "\n",
    "# 4. Save the merged data to new CSV files\n",
    "merged_regular.to_csv('../data/merge_non_voter_preditc_to_raw_regular.csv', index=False)\n",
    "merged_tca.to_csv('../data/merge_non_voter_preditc_to_raw_TCA.csv', index=False)\n",
    "\n",
    "print(\"Merge completed successfully!\")\n",
    "print(f\"Regular merged shape: {merged_regular.shape}\")\n",
    "print(f\"TCA merged shape: {merged_tca.shape}\")"
   ]
  }
 ],
 "metadata": {
  "kernelspec": {
   "display_name": "law_word_vector",
   "language": "python",
   "name": "python3"
  },
  "language_info": {
   "codemirror_mode": {
    "name": "ipython",
    "version": 3
   },
   "file_extension": ".py",
   "mimetype": "text/x-python",
   "name": "python",
   "nbconvert_exporter": "python",
   "pygments_lexer": "ipython3",
   "version": "3.9.21"
  }
 },
 "nbformat": 4,
 "nbformat_minor": 2
}
