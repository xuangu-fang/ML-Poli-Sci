{
 "cells": [
  {
   "cell_type": "markdown",
   "metadata": {},
   "source": [
    "# Data loading and process"
   ]
  },
  {
   "cell_type": "code",
   "execution_count": 8,
   "metadata": {},
   "outputs": [],
   "source": [
    "import pandas as pd\n",
    "\n",
    "\n",
    "# data path\n",
    "file_path = '../data/cumulative_2022_v3_9_domain.csv'\n",
    "\n",
    "data = pd.read_csv(file_path)\n",
    "\n"
   ]
  },
  {
   "cell_type": "code",
   "execution_count": 9,
   "metadata": {},
   "outputs": [
    {
     "name": "stdout",
     "output_type": "stream",
     "text": [
      "2020.0\n",
      "1948.0\n"
     ]
    }
   ],
   "source": [
    "# check the \"Year\" column's max and min value\n",
    "print(data['Year'].max())\n",
    "print(data['Year'].min())"
   ]
  },
  {
   "cell_type": "code",
   "execution_count": 11,
   "metadata": {},
   "outputs": [
    {
     "data": {
      "text/plain": [
       "Year                                  0\n",
       "South                              1801\n",
       "region                             1801\n",
       "racial_composition_nbhood         59420\n",
       "racial_composition_gradeSchool    60327\n",
       "                                  ...  \n",
       "occupation                        28223\n",
       "occupation14                      51795\n",
       "occupation71                      51795\n",
       "home_ownership                    13672\n",
       "urbanism                          24972\n",
       "Length: 116, dtype: int64"
      ]
     },
     "execution_count": 11,
     "metadata": {},
     "output_type": "execute_result"
    }
   ],
   "source": [
    "data.isnull().sum()"
   ]
  },
  {
   "cell_type": "code",
   "execution_count": 13,
   "metadata": {},
   "outputs": [],
   "source": [
    "# analysis the missing value of each column in differernt period:\n",
    "# 1. overall missing value and percentage\n",
    "# 2. missing value and percentage in recent 10 years (\"Year\" >= 2012)\")\n",
    "# 3. missing value and percentage in recent 20 years (\"Year\" >= 2002)\")\n",
    "# 4. missing value and percentage in recent 30 years (\"Year\" >= 1992)\")\n",
    "# 5. missing value and percentage in recent 40 years (\"Year\" >= 1982)\")\n",
    "# 6. missing value and percentage in recent 50 years (\"Year\" >= 1972)\")\n",
    "# 7. missing value and percentage in recent 60 years (\"Year\" >= 1962)\")\n",
    "\n",
    "# save the result in csv file, the first column is the feature name\n",
    "\n",
    "\n",
    "def missing_value_analysis(data):\n",
    "    # get the number of missing value of each column\n",
    "    missing_value_num = data.isnull().sum()\n",
    "    # get the percentage of missing value of each column\n",
    "    missing_value_percentage = missing_value_num / len(data)\n",
    "\n",
    "    missing_value_percentage_10 = data[data['Year'] >= 2012].isnull().sum() / len(data[data['Year'] >= 2012])\n",
    "    missing_value_percentage_20 = data[data['Year'] >= 2002].isnull().sum() / len(data[data['Year'] >= 2002])\n",
    "    missing_value_percentage_30 = data[data['Year'] >= 1992].isnull().sum() / len(data[data['Year'] >= 1992])\n",
    "    missing_value_percentage_40 = data[data['Year'] >= 1982].isnull().sum() / len(data[data['Year'] >= 1982])\n",
    "    missing_value_percentage_50 = data[data['Year'] >= 1972].isnull().sum() / len(data[data['Year'] >= 1972])\n",
    "    missing_value_percentage_60 = data[data['Year'] >= 1962].isnull().sum() / len(data[data['Year'] >= 1962])\n",
    "    missing_value_percentage_70 = data[data['Year'] >= 1952].isnull().sum() / len(data[data['Year'] >= 1952])\n",
    "\n",
    "    # combine the result\n",
    "    missing_value = pd.concat([missing_value_num, missing_value_percentage,\n",
    "                               missing_value_percentage_10, missing_value_percentage_20,\n",
    "                               missing_value_percentage_30, missing_value_percentage_40,\n",
    "                               missing_value_percentage_50, missing_value_percentage_60,    missing_value_percentage_70], axis=1)\n",
    "    missing_value.columns = ['missing_value_num', 'missing_value_percentage',\n",
    "                                'missing_value_percentage_10(>=2012)', 'missing_value_percentage_20(>=2002)',\n",
    "                                'missing_value_percentage_30(>=1992)', 'missing_value_percentage_40(>=1982)',\n",
    "                                'missing_value_percentage_50(>=1972)', 'missing_value_percentage_60(>=1962)', 'missing_value_percentage_60(>=1952)']\n",
    "\n",
    "    # sort the result by missing value percentage\n",
    "    missing_value = missing_value.sort_values(by='missing_value_percentage', ascending=False)\n",
    "\n",
    "\n",
    "    return missing_value\n",
    "\n",
    "massing_value = missing_value_analysis(data)\n",
    "\n",
    "# save the result\n",
    "massing_value.to_csv('../data/missing_value_analysis.csv')\n"
   ]
  },
  {
   "cell_type": "code",
   "execution_count": 6,
   "metadata": {},
   "outputs": [
    {
     "name": "stdout",
     "output_type": "stream",
     "text": [
      "(68224, 1030)\n",
      "there are 68224 samples(rows) and 1030 variables(columns) in the DataFrame\n",
      "\n",
      "\n"
     ]
    }
   ],
   "source": [
    "# check the shape of the DataFrame\n",
    "print( df.shape)\n",
    "print( 'there are', df.shape[0], 'samples(rows) and', df.shape[1], 'variables(columns) in the DataFrame\\n\\n')\n",
    "\n",
    "# check the head sample of the DataFrame\n",
    "# print(df.head())\n",
    "\n",
    "# save the DataFrame as a csv file\n",
    "# df.to_csv('../data/cumulative_2022_v3_9.csv', index=False)\n"
   ]
  },
  {
   "cell_type": "code",
   "execution_count": 4,
   "metadata": {},
   "outputs": [],
   "source": [
    "\n",
    "\n",
    "variable_labels = meta.column_labels\n",
    "\n",
    "variable_to_column_dict = {}\n",
    "\n",
    "# we also build a dictionary to map the variable labels in meta to column names in df, which may make the feature indexing more conveniently\n",
    "\n",
    "for i in range(len(variable_labels)):\n",
    "\n",
    "    variable_to_column_dict[variable_labels[i]] = df.columns[i]\n",
    "\n",
    "# we further check the meaning(label) of the values for each variable\n",
    "\n",
    "value_labels = meta.variable_value_labels"
   ]
  },
  {
   "cell_type": "code",
   "execution_count": 27,
   "metadata": {},
   "outputs": [
    {
     "name": "stdout",
     "output_type": "stream",
     "text": [
      "there are 115 domain_features in total\n",
      "\n",
      "\n"
     ]
    }
   ],
   "source": [
    "# add a dict to store the features for each domain\n",
    "\n",
    "domain_features = {}\n",
    "\n",
    "domain_features['Contextual_Domain'] = [\n",
    "                                        'South',\n",
    "                                        'region',\n",
    "                                        'racial_composition_nbhood',\n",
    "                                        'racial_composition_gradeSchool',\n",
    "                                        'racial_composition_juniorHigh',\n",
    "                                        'racial_composition_highSchool', \n",
    "                                        'racial_composition_shops',\n",
    "                                        'racial_composition_friends',\n",
    "                                        'length_residence_home',\n",
    "                                        'length_residence_community',\n",
    "                                        'workedWithcommunity',\n",
    "                                        'volunteer',\n",
    "                                        'meetingCommuntySchool',\n",
    "                                        'living_withFamily',\n",
    "                                        'Age',\n",
    "                                        'Gender',\n",
    "                                        'Race3',\n",
    "                                        'Race4',\n",
    "                                        'Race7',\n",
    "                                        'Education4',\n",
    "                                        'education6',\n",
    "                                        'education7',\n",
    "                                        'church_attendance',\n",
    "                                        'VCF0130',\n",
    "                                        'VCF0131',\n",
    "                                        \n",
    "]\n",
    "\n",
    "domain_features['Identity_Domain'] = [\n",
    "                                        'sex_orientation',\n",
    "                                        'bisexalFamilyorFriends',\n",
    "                                        'have_healthInsurance',\n",
    "                                        'satisfactionLife',\n",
    "                                        'bornAgain',\n",
    "                                        'howOftenTrust',\n",
    "                                        'trustPeople',\n",
    "                                        'VCF0626',\n",
    "                                        'VCF0627',\n",
    "                                        'VCF0628',\n",
    "                                        'VCF0629',\n",
    "                                        'concern_war',\n",
    "                                        'concern_nuclear_war',\n",
    "\n",
    "\n",
    "]\n",
    "    \n",
    "\n",
    "domain_features['Presidential_Politics_Domain'] = [\n",
    "                                      'approve_pres',\n",
    "                                      'approve_pres_strength',\n",
    "                                      'Presidency_performance',\n",
    "                                      'vote_always_sameParty',\n",
    "                                      'Will_PresElectionClose',\n",
    "                                      'approve_president_economy',\n",
    "                                      'party_handle_problem',\n",
    "                                      'VCF9219',\n",
    "                                      'VCF9220',\n",
    "]\n",
    "\n",
    "domain_features['affect_domain'] = [\n",
    "                                'therm_Blacks',\n",
    "                                'therm_Whites',\n",
    "                                'therm_hispanics',\n",
    "                                'therm_Asians',\n",
    "                                'therm_Protestants',\n",
    "                                'therm_Catholics',\n",
    "                                'therm_Jews',\n",
    "                                'therm_Christians',\n",
    "                                'therm_ChrFundament',\n",
    "                                'therm_Mislims',\n",
    "                                'thermometer_evangelical',\n",
    "                                'thermometer_women',\n",
    "                                'therm_liberals',\n",
    "                                'therm_conservatives',\n",
    "                                'VCF0886',\n",
    "                                'VCF0887',\n",
    "                                'VCF0890',\n",
    "                                'VCF0891',\n",
    "                    \n",
    "]\n",
    "\n",
    "domain_features['Cognitive domain'] = [\n",
    "    'ideology7',\n",
    "    'authoritarian1',\n",
    "    'authoritarian2',\n",
    "    'authoritarian3',\n",
    "    'authoritarian4',\n",
    "    'votingMakedifference',\n",
    "    'understand_poliIssues',\n",
    "    'politics2complicated',\n",
    "    'powerDifference',\n",
    "    'satisfactionDemocracy',\n",
    "    'follow_political_info',\n",
    "    'blackInfluence_Politics',\n",
    "    'media_type_count',\n",
    "]\n",
    "\n",
    "\n",
    "domain_features['Electoral_Engagement_domain'] =[\n",
    "'Vote_Nonvote_Pres',\n",
    "'Pre_election_inten_vote',\n",
    "'intend_v_actual_presVote',\n",
    "'Voted_Congress',\n",
    "'Voted_Senate',\n",
    "'VCF9027',\n",
    "'VCF9028',\n",
    "'VCF9029',\n",
    "'VCF9030',\n",
    "'VCF9030a',\n",
    "'VCF9030b',\n",
    "'VCF9030c',\n",
    "'VCF9031',\n",
    "'VCF9022',\n",
    "'VCF9023',    \n",
    "'Registered',\n",
    "'Voted',\n",
    "'Registered_voted',\n",
    "'VCF0717',\n",
    "'VCF0718',\n",
    "'VCF0719',\n",
    "'VCF0720',\n",
    "'VCF0721',\n",
    "]\n",
    "\n",
    "domain_features['Political_Inclinations_Domain'] = \\\n",
    "[\n",
    "    'Party_id3',\n",
    "    'Party_id7',\n",
    "    'Interest_elections',\n",
    "    'interest_pubAffair',\n",
    "    'therm_DemParty',\n",
    "    'therm_RepParty',\n",
    "    'Voted_party',\n",
    "    'Voted_D_R',\n",
    "]\n",
    "\n",
    "domain_features['Socio_Eco_Domain'] = [\n",
    "    'Family_income',\n",
    "    'occupation',\n",
    "    'occupation14',\n",
    "    'occupation71',\n",
    "    'home_ownership',\n",
    "    'urbanism',\n",
    "]\n",
    "\n",
    "\n",
    "# check the variable labels for each domain is in the df.columns\n",
    "\n",
    "for domain in domain_features.keys():\n",
    "    for feature in domain_features[domain]:\n",
    "        if feature not in df.columns:\n",
    "            print(feature, 'is not in the df.columns')\n",
    "\n",
    "            \n",
    "# number of the total domain_features\n",
    "print('there are', sum([len(domain_features[domain]) for domain in domain_features.keys()]), 'domain_features in total\\n\\n')\n",
    "\n",
    "all_domain_features = []\n",
    "for domain in domain_features.keys():\n",
    "    all_domain_features += domain_features[domain]\n",
    "    \n",
    "\n"
   ]
  },
  {
   "cell_type": "code",
   "execution_count": 29,
   "metadata": {},
   "outputs": [],
   "source": [
    "df_domain = df[all_domain_features]\n",
    "\n",
    "# save the DataFrame as a csv file\n",
    "df_domain.to_csv('../data/cumulative_2022_v3_9_domain.csv', index=False)\n",
    "\n"
   ]
  },
  {
   "cell_type": "code",
   "execution_count": 5,
   "metadata": {},
   "outputs": [
    {
     "name": "stdout",
     "output_type": "stream",
     "text": [
      "Number of rows: 68224\n",
      "Number of columns: 1030\n",
      "File label: None\n",
      "\n",
      "number of missing values of each variable: \n",
      "Version                       0\n",
      "Year                          0\n",
      "VCF0006                       0\n",
      "VCF0006a                      0\n",
      "VCF0009x                   8280\n",
      "                          ...  \n",
      "VCF9278                   52338\n",
      "sex_orientation           47942\n",
      "bisexalFamilyorFriends    48900\n",
      "have_healthInsurance      42284\n",
      "living_withFamily         47503\n",
      "Length: 1030, dtype: int64\n"
     ]
    }
   ],
   "source": [
    "# other information in meta\n",
    "\n",
    "num_rows = meta.number_rows\n",
    "num_cols = meta.number_columns\n",
    "file_label = meta.file_label\n",
    "\n",
    "print(f\"Number of rows: {num_rows}\")\n",
    "print(f\"Number of columns: {num_cols}\")\n",
    "print(f\"File label: {file_label}\\n\")\n",
    "\n",
    "# check the missing values in the DataFrame\n",
    "print('number of missing values of each variable: ')\n",
    "print(df.isnull().sum())\n"
   ]
  },
  {
   "cell_type": "markdown",
   "metadata": {},
   "source": [
    "# Model 1: regression"
   ]
  },
  {
   "cell_type": "code",
   "execution_count": 70,
   "metadata": {},
   "outputs": [
    {
     "name": "stdout",
     "output_type": "stream",
     "text": [
      "number_children {0.0: '0. None', 1.0: '1. One', 2.0: '2. Two', 3.0: '3. Three', 4.0: '4. Four', 5.0: '5. Five', 6.0: '6. Six', 7.0: '7. Seven', 8.0: '8. Eight or more', 9.0: '9. NA; no Pre IW; Panel (1992,1996,2002)'} \n",
      "\n",
      "Age_group {0.0: '0. NA; DK; RF; no Pre IW', 1.0: '1. 17 - 24', 2.0: '2. 25 - 34', 3.0: '3. 35 - 44', 4.0: '4. 45 - 54', 5.0: '5. 55 - 64', 6.0: '6. 65 - 74', 7.0: '7. 75 - 99 and over (except 1954)'} \n",
      "\n",
      "Family_income {0.0: '0. DK; NA; refused to answer; no Pre IW', 1.0: '1. 0 to 16 percentile', 2.0: '2. 17 to 33 percentile', 3.0: '3. 34 to 67 percentile', 4.0: '4. 68 to 95 percentile', 5.0: '5. 96 to 100 percentile'} \n",
      "\n",
      "level_politicalInfo_Post {0.0: '0. no Post IW; abbrev. Post IW (1984); web  mode (2012,2016)', 1.0: '1. Very high', 2.0: '2. Fairly high', 3.0: '3. Average', 4.0: '4. Fairly low', 5.0: '5. Very low', 9.0: '9. NA'}\n"
     ]
    }
   ],
   "source": [
    "# we try a simple multi-variates regression model \n",
    "\n",
    "# for example, we use the \"number_children\", \"Age_group \" and \"Family_income\" to predict \"level_politicalInfo_Post\"\n",
    "\n",
    "used_variable = ['number_children', 'Age_group', 'Family_income']\n",
    "target = 'level_politicalInfo_Post'\n",
    "\n",
    "#  check the value labels of the used variables and target variable\n",
    "for var in used_variable:\n",
    "    print(var, value_labels[var],'\\n')\n",
    "print(target, value_labels[target])\n"
   ]
  },
  {
   "cell_type": "code",
   "execution_count": 72,
   "metadata": {},
   "outputs": [
    {
     "name": "stdout",
     "output_type": "stream",
     "text": [
      "(14598, 4)\n",
      "       number_children     Age_group  Family_income  level_politicalInfo_Post\n",
      "count     14598.000000  14598.000000   14598.000000              14598.000000\n",
      "mean          0.812303      3.459378       2.899986                  3.007261\n",
      "std           1.070755      1.733047       1.156044                  1.092152\n",
      "min           0.000000      1.000000       1.000000                  1.000000\n",
      "25%           0.000000      2.000000       2.000000                  2.000000\n",
      "50%           0.000000      3.000000       3.000000                  3.000000\n",
      "75%           2.000000      5.000000       4.000000                  4.000000\n",
      "max           3.000000      7.000000       5.000000                  5.000000\n"
     ]
    }
   ],
   "source": [
    "# based on the value labels, we only keep the samples with valid values for the used variables and target variable\n",
    "\n",
    "# remove the missing values\n",
    "df_used = df[used_variable + [target]].dropna()\n",
    "\n",
    "# remove the samples with invalid values for the used variables and target variable\n",
    "\n",
    "# remove the samples whose 'number_children' is 9.0\n",
    "df_used = df_used[df_used['number_children'] != 9.0]\n",
    "\n",
    "# remove the samples whose 'Age_group' is 0.0\n",
    "df_used = df_used[df_used['Age_group'] != 0.0]\n",
    "\n",
    "# remove the samples whose 'Family_income' is 0.0\n",
    "df_used = df_used[df_used['Family_income'] != 0.0]\n",
    "\n",
    "# remove the samples whose 'level_politicalInfo_Post' is 0.0\n",
    "df_used = df_used[df_used['level_politicalInfo_Post'] != 0.0]\n",
    "\n",
    "\n",
    "print(df_used.shape)\n",
    "\n",
    "# the summary of the used variables\n",
    "print(df_used.describe())"
   ]
  },
  {
   "cell_type": "code",
   "execution_count": 73,
   "metadata": {},
   "outputs": [
    {
     "name": "stdout",
     "output_type": "stream",
     "text": [
      "Coefficients: \n",
      " [ 0.10196896 -0.04577132 -0.32319057]\n",
      "Mean squared error: 1.08\n",
      "Coefficient of determination: 0.13\n"
     ]
    }
   ],
   "source": [
    "# we use the sklearn package to build the regression model\n",
    "\n",
    "from sklearn.linear_model import LinearRegression\n",
    "from sklearn.model_selection import train_test_split\n",
    "from sklearn.metrics import mean_squared_error, r2_score\n",
    "\n",
    "# split the data into training and testing sets (80% for training and 20% for testing)\n",
    "X_train, X_test, y_train, y_test = train_test_split(df_used[used_variable], df_used[target], test_size=0.2, random_state=42)\n",
    "\n",
    "# build the model\n",
    "reg = LinearRegression().fit(X_train, y_train)\n",
    "\n",
    "# make predictions\n",
    "y_pred = reg.predict(X_test)\n",
    "\n",
    "# check the performance of the model\n",
    "print('Coefficients: \\n', reg.coef_)\n",
    "\n",
    "print('Mean squared error: %.2f'    \n",
    "        % mean_squared_error(y_test, y_pred))\n",
    "\n",
    "print('Coefficient of determination: %.2f'\n",
    "        % r2_score(y_test, y_pred))\n",
    "\n"
   ]
  },
  {
   "cell_type": "markdown",
   "metadata": {},
   "source": [
    "# Model 2: classification"
   ]
  },
  {
   "cell_type": "code",
   "execution_count": 81,
   "metadata": {},
   "outputs": [
    {
     "name": "stdout",
     "output_type": "stream",
     "text": [
      "number_children {0.0: '0. None', 1.0: '1. One', 2.0: '2. Two', 3.0: '3. Three', 4.0: '4. Four', 5.0: '5. Five', 6.0: '6. Six', 7.0: '7. Seven', 8.0: '8. Eight or more', 9.0: '9. NA; no Pre IW; Panel (1992,1996,2002)'} \n",
      "\n",
      "Age_group {0.0: '0. NA; DK; RF; no Pre IW', 1.0: '1. 17 - 24', 2.0: '2. 25 - 34', 3.0: '3. 35 - 44', 4.0: '4. 45 - 54', 5.0: '5. 55 - 64', 6.0: '6. 65 - 74', 7.0: '7. 75 - 99 and over (except 1954)'} \n",
      "\n",
      "Family_income {0.0: '0. DK; NA; refused to answer; no Pre IW', 1.0: '1. 0 to 16 percentile', 2.0: '2. 17 to 33 percentile', 3.0: '3. 34 to 67 percentile', 4.0: '4. 68 to 95 percentile', 5.0: '5. 96 to 100 percentile'} \n",
      "\n",
      "VCF0302 {1.0: '1. Republican', 2.0: '2. Independent', 3.0: '3. No preference; none; neither', 4.0: '4. Other', 5.0: '5. Democrat', 8.0: '8. DK', 9.0: '9. NA; refused'}\n"
     ]
    }
   ],
   "source": [
    "# we try a simple classification model\n",
    "\n",
    "# for example, we use the \"number_children\", \"Age_group \" and \"Family_income\" to predict \"VCF0302\"-- Party Identification of Respondent- Initial Party ID Response\n",
    "\n",
    "used_variable = ['number_children', 'Age_group', 'Family_income']\n",
    "target = 'VCF0302'\n",
    "\n",
    "\n",
    "for var in used_variable:\n",
    "    print(var, value_labels[var],'\\n')\n",
    "#  check the value lables of the target variable\n",
    "print(target , value_labels[target])\n"
   ]
  },
  {
   "cell_type": "code",
   "execution_count": 82,
   "metadata": {},
   "outputs": [
    {
     "name": "stdout",
     "output_type": "stream",
     "text": [
      "(10372, 4)\n",
      "       number_children     Age_group  Family_income       VCF0302\n",
      "count     10372.000000  10372.000000   10372.000000  10372.000000\n",
      "mean          0.745083      3.670748       2.874566      0.386136\n",
      "std           1.042256      1.765508       1.155694      0.486886\n",
      "min           0.000000      1.000000       1.000000      0.000000\n",
      "25%           0.000000      2.000000       2.000000      0.000000\n",
      "50%           0.000000      3.000000       3.000000      0.000000\n",
      "75%           1.000000      5.000000       4.000000      1.000000\n",
      "max           3.000000      7.000000       5.000000      1.000000\n"
     ]
    }
   ],
   "source": [
    "# we first drop samples with missing values,\n",
    "\n",
    "df_used = df[used_variable + [target]].dropna()\n",
    "\n",
    "# remove the samples with invalid values for the used variables and target variable\n",
    "\n",
    "# remove the samples whose 'number_children' is 9.0\n",
    "df_used = df_used[df_used['number_children'] != 9.0]\n",
    "\n",
    "# remove the samples whose 'Age_group' is 0.0\n",
    "df_used = df_used[df_used['Age_group'] != 0.0]\n",
    "\n",
    "# remove the samples whose 'Family_income' is 0.0\n",
    "df_used = df_used[df_used['Family_income'] != 0.0]\n",
    "\n",
    "#  then we only select the samples whose target value is {1.0: '1. Republican', 5.0: '5. Democrat'} (it can be a multi-class classification problem if we select more than 2 values, but here we only select 2 values to make it a binary classification problem)) \n",
    "\n",
    "df_used = df_used[df_used[target].isin([1.0, 5.0])]\n",
    "\n",
    "# transform the target variable to binary values\n",
    "df_used[target] = df_used[target].apply(lambda x: 1 if x == 1.0 else 0)\n",
    "\n",
    "print(df_used.shape)\n",
    "\n",
    "# the summary of the used variables\n",
    "print(df_used.describe())"
   ]
  },
  {
   "cell_type": "code",
   "execution_count": 83,
   "metadata": {},
   "outputs": [
    {
     "name": "stdout",
     "output_type": "stream",
     "text": [
      "Coefficients: \n",
      " [[-0.07056391 -0.00963245  0.29203705]]\n",
      "Accuracy: 0.63\n",
      "F1 score: 0.15\n",
      "AUC: 0.53\n"
     ]
    }
   ],
   "source": [
    "# we still use the sklearn package to build the classification model by logistic regression\n",
    "\n",
    "from sklearn.linear_model import LogisticRegression\n",
    "from sklearn.model_selection import train_test_split\n",
    "# use accuracy, F1 score, AUC as the performance metric\n",
    "from sklearn.metrics import accuracy_score, f1_score, roc_auc_score\n",
    "\n",
    "# split the data into training and testing sets(80% for training and 20% for testing)\n",
    "X_train, X_test, y_train, y_test = train_test_split(df_used[used_variable], df_used[target], test_size=0.2, random_state=42)\n",
    "\n",
    "# build the model\n",
    "clf = LogisticRegression(random_state=0).fit(X_train, y_train)\n",
    "\n",
    "# make predictions\n",
    "y_pred = clf.predict(X_test)\n",
    "\n",
    "# check the performance of the model, report the accuracy\n",
    "print('Coefficients: \\n', clf.coef_)\n",
    "print('Accuracy: %.2f'    \n",
    "        % accuracy_score(y_test, y_pred))\n",
    "print('F1 score: %.2f'\n",
    "        % f1_score(y_test, y_pred))\n",
    "print('AUC: %.2f'\n",
    "        % roc_auc_score(y_test, y_pred))\n"
   ]
  },
  {
   "cell_type": "code",
   "execution_count": 84,
   "metadata": {},
   "outputs": [
    {
     "data": {
      "text/plain": [
       "<Axes: >"
      ]
     },
     "execution_count": 84,
     "metadata": {},
     "output_type": "execute_result"
    },
    {
     "data": {
      "image/png": "[encoded data removed]",
      "text/plain": [
       "<Figure size 640x480 with 2 Axes>"
      ]
     },
     "metadata": {},
     "output_type": "display_data"
    }
   ],
   "source": [
    "# at last, we check the correlation between the three variables\n",
    "\n",
    "corr_matrix = df[['number_children', 'Age_group', 'Family_income']].corr()\n",
    "# visualize the correlation matrix\n",
    "\n",
    "# install the seaborn and matplotlib packages first if you don't have them\n",
    "# !pip install seaborn\n",
    "# !pip install matplotlib\n",
    "\n",
    "import seaborn as sn\n",
    "import matplotlib.pyplot as plt\n",
    "\n",
    "sn.heatmap(corr_matrix, annot=True)"
   ]
  },
  {
   "cell_type": "markdown",
   "metadata": {},
   "source": [
    "# Model 3: Deep Model with Pytorch"
   ]
  },
  {
   "cell_type": "code",
   "execution_count": 87,
   "metadata": {},
   "outputs": [
    {
     "name": "stdout",
     "output_type": "stream",
     "text": [
      "Epoch 0 loss: 0.7286853194236755\n",
      "Epoch 100 loss: 0.6707441806793213\n",
      "Epoch 200 loss: 0.6615500450134277\n",
      "Epoch 300 loss: 0.6577353477478027\n",
      "Epoch 400 loss: 0.6546148657798767\n",
      "Epoch 500 loss: 0.6523251533508301\n",
      "Epoch 600 loss: 0.6512188911437988\n",
      "Epoch 700 loss: 0.6507850885391235\n",
      "Epoch 800 loss: 0.6505460143089294\n",
      "Epoch 900 loss: 0.6503548622131348\n",
      "Finished Training\n",
      "Accuracy: 0.63\n",
      "F1 score: 0.24\n",
      "AUC: 0.55\n"
     ]
    }
   ],
   "source": [
    "# we use pytorch to build a simple neural network to predict the target variable based on the used variables\n",
    "\n",
    "# the setting is same to the classfication model above: use the \"number_children\", \"Age_group \" and \"Family_income\" to predict \"VCF0302\"-- Party Identification of Respondent- Initial Party ID Response\n",
    "\n",
    "\n",
    "import torch\n",
    "import torch.nn as nn\n",
    "import torch.nn.functional as F\n",
    "import numpy as np\n",
    "\n",
    "# split the data into training and testing sets(80% for training and 20% for testing)\n",
    "X_train, X_test, y_train, y_test = train_test_split(df_used[used_variable], df_used[target], test_size=0.2, random_state=42)\n",
    "\n",
    "# transform the data to torch tensor\n",
    "\n",
    "X_train = torch.tensor(X_train.values).float()\n",
    "X_test = torch.tensor(X_test.values).float()\n",
    "y_train = torch.tensor(y_train.values).float()\n",
    "y_test = torch.tensor(y_test.values).float()\n",
    "\n",
    "# build the NN model, a simple fully-connected neural network with 3 hidden layers\n",
    "class Net(nn.Module):\n",
    "    def __init__(self):\n",
    "        super(Net, self).__init__()\n",
    "        self.fc1 = nn.Linear(3, 10)\n",
    "        self.fc2 = nn.Linear(10, 10)\n",
    "        self.fc3 = nn.Linear(10, 1)\n",
    "        self.sigmoid = nn.Sigmoid()\n",
    "\n",
    "    def forward(self, x):\n",
    "        x = F.relu(self.fc1(x))\n",
    "        x = F.relu(self.fc2(x))\n",
    "        x = self.sigmoid(self.fc3(x))\n",
    "        return x\n",
    "    \n",
    "net = Net()\n",
    "\n",
    "# define the loss function and optimizer\n",
    "criterion = nn.BCELoss()\n",
    "optimizer = torch.optim.Adam(net.parameters(), lr=0.001)\n",
    "\n",
    "# train the model\n",
    "\n",
    "for epoch in range(1000):  # loop over the dataset multiple times\n",
    "    \n",
    "        optimizer.zero_grad()   # zero the gradient buffers\n",
    "    \n",
    "        outputs = net(X_train)\n",
    "        loss = criterion(outputs.squeeze(), y_train)\n",
    "        loss.backward()\n",
    "        optimizer.step()\n",
    "    \n",
    "        if epoch % 100 == 0:\n",
    "            print(f\"Epoch {epoch} loss: {loss.item()}\")\n",
    "    \n",
    "print('Finished Training')\n",
    "\n",
    "# make predictions\n",
    "outputs = net(X_test)\n",
    "y_pred = outputs.detach().numpy()\n",
    "y_pred = np.where(y_pred > 0.5, 1, 0)\n",
    "\n",
    "# check the performance of the model, report the accuracy\n",
    "print('Accuracy: %.2f'    \n",
    "        % accuracy_score(y_test, y_pred))\n",
    "print('F1 score: %.2f'\n",
    "        % f1_score(y_test, y_pred))\n",
    "print('AUC: %.2f'\n",
    "        % roc_auc_score(y_test, y_pred))\n",
    "\n",
    "\n",
    "\n"
   ]
  }
 ],
 "metadata": {
  "kernelspec": {
   "display_name": "torch_1.13_gpu",
   "language": "python",
   "name": "python3"
  },
  "language_info": {
   "codemirror_mode": {
    "name": "ipython",
    "version": 3
   },
   "file_extension": ".py",
   "mimetype": "text/x-python",
   "name": "python",
   "nbconvert_exporter": "python",
   "pygments_lexer": "ipython3",
   "version": "3.10.8"
  },
  "orig_nbformat": 4
 },
 "nbformat": 4,
 "nbformat_minor": 2
}
